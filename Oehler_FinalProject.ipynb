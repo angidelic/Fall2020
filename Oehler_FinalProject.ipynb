{
 "cells": [
  {
   "cell_type": "markdown",
   "metadata": {},
   "source": [
    "## Angie Oehler, Final Project"
   ]
  },
  {
   "cell_type": "code",
   "execution_count": 1,
   "metadata": {},
   "outputs": [],
   "source": [
    "# All the various imports I need to make the code work\n",
    "from __future__ import print_function, division\n",
    "import csv\n",
    "import pandas as pd"
   ]
  },
  {
   "cell_type": "code",
   "execution_count": 2,
   "metadata": {},
   "outputs": [],
   "source": [
    "df = pd.read_csv (r'C:\\Users\\Madam President\\Desktop\\Murder2.csv')\n",
    "low_memory = False"
   ]
  },
  {
   "cell_type": "code",
   "execution_count": 26,
   "metadata": {},
   "outputs": [
    {
     "name": "stdout",
     "output_type": "stream",
     "text": [
      "                      ID  Year      Month         State             Agency  \\\n",
      "0       197604002LA05701  1976      April     Louisiana          Abbeville   \n",
      "1       197604001LA05701  1976      April     Louisiana          Abbeville   \n",
      "2       197610001WA01401  1976    October    Washington           Aberdeen   \n",
      "3       197610001MD01301  1976    October      Maryland           Aberdeen   \n",
      "4       197606001TX22101  1976       June         Texas            Abilene   \n",
      "5       197610001TX22101  1976    October         Texas            Abilene   \n",
      "6       197612001TX22101  1976   December         Texas            Abilene   \n",
      "7       197602002TX22101  1976   February         Texas            Abilene   \n",
      "8       197608001VA09401  1976     August      Virginia           Abingdon   \n",
      "9       197603002PA04601  1976      March  Pennsylvania  Abington Township   \n",
      "10      197603001PA04601  1976      March  Pennsylvania  Abington Township   \n",
      "11      197611002VA00100  1976   November      Virginia    Accomack County   \n",
      "12      197612001VA00100  1976   December      Virginia    Accomack County   \n",
      "13      197611001VA00100  1976   November      Virginia    Accomack County   \n",
      "14      197609001VA00100  1976  September      Virginia    Accomack County   \n",
      "15      197602001ID00100  1976   February         Idaho         Ada County   \n",
      "16      197606001ID00100  1976       June         Idaho         Ada County   \n",
      "17      197603001ID00100  1976      March         Idaho         Ada County   \n",
      "18      197603001ID00100  1976      March         Idaho         Ada County   \n",
      "19      197610001WI00100  1976    October     Wisconsin       Adams County   \n",
      "20      197602001CO00100  1976   February      Colorado       Adams County   \n",
      "21      197606001CO00100  1976       June      Colorado       Adams County   \n",
      "22      197606001ID00200  1976       June         Idaho       Adams County   \n",
      "23      197610001ID00200  1976    October         Idaho       Adams County   \n",
      "24      197604001IL00100  1976      April      Illinois       Adams County   \n",
      "25      197610001CO00100  1976    October      Colorado       Adams County   \n",
      "26      197609001IL00100  1976  September      Illinois       Adams County   \n",
      "27      197602002CO00100  1976   February      Colorado       Adams County   \n",
      "28      197602001AL00122  1976   February       Alabama         Adamsville   \n",
      "29      197607001TX05701  1976       July         Texas            Addison   \n",
      "...                  ...   ...        ...           ...                ...   \n",
      "571035  201711002OH05009  2017   November          Ohio         Youngstown   \n",
      "571036  201709001OH05009  2017  September          Ohio         Youngstown   \n",
      "571037  201708002OH05009  2017     August          Ohio         Youngstown   \n",
      "571038  201702003OH05009  2017   February          Ohio         Youngstown   \n",
      "571039  201711001OH05009  2017   November          Ohio         Youngstown   \n",
      "571040  201703001OH05009  2017      March          Ohio         Youngstown   \n",
      "571041  201708001OH05009  2017     August          Ohio         Youngstown   \n",
      "571042  201711003OH05009  2017   November          Ohio         Youngstown   \n",
      "571043  201706001OH05009  2017       June          Ohio         Youngstown   \n",
      "571044  201703002OH05009  2017      March          Ohio         Youngstown   \n",
      "571045  201704001OH05009  2017      April          Ohio         Youngstown   \n",
      "571046  201707001OH05009  2017       July          Ohio         Youngstown   \n",
      "571047  201709002OH05009  2017  September          Ohio         Youngstown   \n",
      "571048  201708001MI81836  2017     August      Michigan          Ypsilanti   \n",
      "571049  201706001MI81836  2017       June      Michigan          Ypsilanti   \n",
      "571050  201707001CA04709  2017       July    California              Yreka   \n",
      "571051  201704001CA05102  2017      April    California          Yuba City   \n",
      "571052  201711001CA05800  2017   November    California        Yuba County   \n",
      "571053  201710001CA05800  2017    October    California        Yuba County   \n",
      "571054  201712002AZ01405  2017   December       Arizona               Yuma   \n",
      "571055  201701001AZ01405  2017    January       Arizona               Yuma   \n",
      "571056  201712001AZ01405  2017   December       Arizona               Yuma   \n",
      "571057  201712001AZ01405  2017   December       Arizona               Yuma   \n",
      "571058  201712001AZ01400  2017   December       Arizona        Yuma County   \n",
      "571059  201711003AZ01400  2017   November       Arizona        Yuma County   \n",
      "571060  201703001AZ01400  2017      March       Arizona        Yuma County   \n",
      "571061  201707001LA01703  2017       July     Louisiana            Zachary   \n",
      "571062  201711001LA01703  2017   November     Louisiana            Zachary   \n",
      "571063  201708001LA01703  2017     August     Louisiana            Zachary   \n",
      "571064  201701001IL04923  2017    January      Illinois               Zion   \n",
      "\n",
      "                Agentype                               Homicide  \\\n",
      "0       Municipal police  Murder and non-negligent manslaughter   \n",
      "1       Municipal police  Murder and non-negligent manslaughter   \n",
      "2       Municipal police  Murder and non-negligent manslaughter   \n",
      "3       Municipal police  Murder and non-negligent manslaughter   \n",
      "4       Municipal police  Murder and non-negligent manslaughter   \n",
      "5       Municipal police  Murder and non-negligent manslaughter   \n",
      "6       Municipal police  Murder and non-negligent manslaughter   \n",
      "7       Municipal police  Murder and non-negligent manslaughter   \n",
      "8       Municipal police  Murder and non-negligent manslaughter   \n",
      "9       Municipal police  Murder and non-negligent manslaughter   \n",
      "10      Municipal police  Murder and non-negligent manslaughter   \n",
      "11               Sheriff  Murder and non-negligent manslaughter   \n",
      "12               Sheriff  Murder and non-negligent manslaughter   \n",
      "13               Sheriff  Murder and non-negligent manslaughter   \n",
      "14               Sheriff  Murder and non-negligent manslaughter   \n",
      "15               Sheriff  Murder and non-negligent manslaughter   \n",
      "16               Sheriff  Murder and non-negligent manslaughter   \n",
      "17               Sheriff  Murder and non-negligent manslaughter   \n",
      "18               Sheriff  Murder and non-negligent manslaughter   \n",
      "19               Sheriff  Murder and non-negligent manslaughter   \n",
      "20               Sheriff  Murder and non-negligent manslaughter   \n",
      "21               Sheriff  Murder and non-negligent manslaughter   \n",
      "22               Sheriff  Murder and non-negligent manslaughter   \n",
      "23               Sheriff  Murder and non-negligent manslaughter   \n",
      "24               Sheriff  Murder and non-negligent manslaughter   \n",
      "25               Sheriff  Murder and non-negligent manslaughter   \n",
      "26               Sheriff  Murder and non-negligent manslaughter   \n",
      "27               Sheriff  Murder and non-negligent manslaughter   \n",
      "28      Municipal police  Murder and non-negligent manslaughter   \n",
      "29      Municipal police  Murder and non-negligent manslaughter   \n",
      "...                  ...                                    ...   \n",
      "571035  Municipal police  Murder and non-negligent manslaughter   \n",
      "571036  Municipal police  Murder and non-negligent manslaughter   \n",
      "571037  Municipal police  Murder and non-negligent manslaughter   \n",
      "571038  Municipal police  Murder and non-negligent manslaughter   \n",
      "571039  Municipal police  Murder and non-negligent manslaughter   \n",
      "571040  Municipal police  Murder and non-negligent manslaughter   \n",
      "571041  Municipal police  Murder and non-negligent manslaughter   \n",
      "571042  Municipal police  Murder and non-negligent manslaughter   \n",
      "571043  Municipal police  Murder and non-negligent manslaughter   \n",
      "571044  Municipal police  Murder and non-negligent manslaughter   \n",
      "571045  Municipal police  Murder and non-negligent manslaughter   \n",
      "571046  Municipal police  Murder and non-negligent manslaughter   \n",
      "571047  Municipal police  Murder and non-negligent manslaughter   \n",
      "571048  Municipal police  Murder and non-negligent manslaughter   \n",
      "571049  Municipal police  Murder and non-negligent manslaughter   \n",
      "571050  Municipal police  Murder and non-negligent manslaughter   \n",
      "571051  Municipal police  Murder and non-negligent manslaughter   \n",
      "571052           Sheriff  Murder and non-negligent manslaughter   \n",
      "571053           Sheriff  Murder and non-negligent manslaughter   \n",
      "571054  Municipal police  Murder and non-negligent manslaughter   \n",
      "571055  Municipal police  Murder and non-negligent manslaughter   \n",
      "571056  Municipal police  Murder and non-negligent manslaughter   \n",
      "571057  Municipal police  Murder and non-negligent manslaughter   \n",
      "571058           Sheriff  Murder and non-negligent manslaughter   \n",
      "571059           Sheriff  Murder and non-negligent manslaughter   \n",
      "571060           Sheriff  Murder and non-negligent manslaughter   \n",
      "571061  Municipal police  Murder and non-negligent manslaughter   \n",
      "571062  Municipal police  Murder and non-negligent manslaughter   \n",
      "571063  Municipal police  Murder and non-negligent manslaughter   \n",
      "571064  Municipal police  Murder and non-negligent manslaughter   \n",
      "\n",
      "                                  Situation  VicAge  VicSex      ...        \\\n",
      "0         Single victim/unknown offender(s)      26  Female      ...         \n",
      "1             Single victim/single offender      32    Male      ...         \n",
      "2             Single victim/single offender      23    Male      ...         \n",
      "3             Single victim/single offender      30    Male      ...         \n",
      "4             Single victim/single offender      21    Male      ...         \n",
      "5             Single victim/single offender      21  Female      ...         \n",
      "6             Single victim/single offender      30    Male      ...         \n",
      "7             Single victim/single offender      35  Female      ...         \n",
      "8             Single victim/single offender      51  Female      ...         \n",
      "9             Single victim/single offender      53    Male      ...         \n",
      "10            Single victim/single offender      54    Male      ...         \n",
      "11            Single victim/single offender      22    Male      ...         \n",
      "12            Single victim/single offender      33    Male      ...         \n",
      "13            Single victim/single offender      47    Male      ...         \n",
      "14            Single victim/single offender      59    Male      ...         \n",
      "15            Single victim/single offender      29  Female      ...         \n",
      "16        Single victim/unknown offender(s)      30    Male      ...         \n",
      "17         Multiple victims/single offender      34  Female      ...         \n",
      "18         Multiple victims/single offender      50    Male      ...         \n",
      "19        Single victim/unknown offender(s)      19  Female      ...         \n",
      "20         Single victim/multiple offenders      23    Male      ...         \n",
      "21        Single victim/unknown offender(s)      25    Male      ...         \n",
      "22        Single victim/unknown offender(s)      30    Male      ...         \n",
      "23            Single victim/single offender      32    Male      ...         \n",
      "24            Single victim/single offender      32    Male      ...         \n",
      "25            Single victim/single offender      36    Male      ...         \n",
      "26         Single victim/multiple offenders      45    Male      ...         \n",
      "27        Single victim/unknown offender(s)      53  Female      ...         \n",
      "28      Multiple victims/multiple offenders      59  Female      ...         \n",
      "29            Single victim/single offender      33  Female      ...         \n",
      "...                                     ...     ...     ...      ...         \n",
      "571035        Single victim/single offender      26    Male      ...         \n",
      "571036        Single victim/single offender      27    Male      ...         \n",
      "571037        Single victim/single offender      28  Female      ...         \n",
      "571038     Single victim/multiple offenders      28  Female      ...         \n",
      "571039        Single victim/single offender      30    Male      ...         \n",
      "571040  Multiple victims/multiple offenders      40    Male      ...         \n",
      "571041        Single victim/single offender      41    Male      ...         \n",
      "571042     Single victim/multiple offenders      45    Male      ...         \n",
      "571043        Single victim/single offender      46  Female      ...         \n",
      "571044     Single victim/multiple offenders      49    Male      ...         \n",
      "571045     Single victim/multiple offenders      52    Male      ...         \n",
      "571046     Single victim/multiple offenders      52    Male      ...         \n",
      "571047        Single victim/single offender      62    Male      ...         \n",
      "571048     Single victim/multiple offenders      25    Male      ...         \n",
      "571049     Single victim/multiple offenders      28    Male      ...         \n",
      "571050        Single victim/single offender      29    Male      ...         \n",
      "571051        Single victim/single offender      43    Male      ...         \n",
      "571052        Single victim/single offender      31  Female      ...         \n",
      "571053        Single victim/single offender      45    Male      ...         \n",
      "571054    Single victim/unknown offender(s)      23  Female      ...         \n",
      "571055        Single victim/single offender      28    Male      ...         \n",
      "571056     Multiple victims/single offender      29    Male      ...         \n",
      "571057     Multiple victims/single offender      37    Male      ...         \n",
      "571058     Multiple victims/single offender      41  Female      ...         \n",
      "571059        Single victim/single offender      51    Male      ...         \n",
      "571060        Single victim/single offender      61    Male      ...         \n",
      "571061        Single victim/single offender      20    Male      ...         \n",
      "571062        Single victim/single offender      24    Male      ...         \n",
      "571063        Single victim/single offender      35  Female      ...         \n",
      "571064    Single victim/unknown offender(s)      39    Male      ...         \n",
      "\n",
      "         OffSex  OffRace                              Weapon  \\\n",
      "0       Unknown  Unknown         Knife or cutting instrument   \n",
      "1          Male    Black     Handgun - pistol, revolver, etc   \n",
      "2          Male    White     Handgun - pistol, revolver, etc   \n",
      "3        Female    Black         Knife or cutting instrument   \n",
      "4          Male    Black     Handgun - pistol, revolver, etc   \n",
      "5          Male    White     Handgun - pistol, revolver, etc   \n",
      "6          Male    White         Knife or cutting instrument   \n",
      "7          Male    White     Handgun - pistol, revolver, etc   \n",
      "8          Male    White     Handgun - pistol, revolver, etc   \n",
      "9        Female    Black         Knife or cutting instrument   \n",
      "10       Female    Black         Knife or cutting instrument   \n",
      "11         Male    Asian            Firearm, type not stated   \n",
      "12         Male    Black                            Drowning   \n",
      "13         Male    Asian    Blunt object - hammer, club, etc   \n",
      "14         Male    Black     Handgun - pistol, revolver, etc   \n",
      "15         Male    White                               Rifle   \n",
      "16      Unknown  Unknown               Other or type unknown   \n",
      "17         Male    White                               Rifle   \n",
      "18         Male    White                               Rifle   \n",
      "19      Unknown  Unknown         Knife or cutting instrument   \n",
      "20         Male    White     Handgun - pistol, revolver, etc   \n",
      "21      Unknown  Unknown     Handgun - pistol, revolver, etc   \n",
      "22      Unknown  Unknown               Other or type unknown   \n",
      "23       Female    White     Handgun - pistol, revolver, etc   \n",
      "24         Male    White         Knife or cutting instrument   \n",
      "25         Male    White                             Shotgun   \n",
      "26         Male    White                          Explosives   \n",
      "27      Unknown  Unknown  Personal weapons, includes beating   \n",
      "28         Male    Black     Handgun - pistol, revolver, etc   \n",
      "29         Male    White         Knife or cutting instrument   \n",
      "...         ...      ...                                 ...   \n",
      "571035  Unknown  Unknown            Firearm, type not stated   \n",
      "571036     Male    Black  Personal weapons, includes beating   \n",
      "571037     Male    Black         Knife or cutting instrument   \n",
      "571038     Male    White               Other or type unknown   \n",
      "571039  Unknown  Unknown     Handgun - pistol, revolver, etc   \n",
      "571040  Unknown  Unknown     Handgun - pistol, revolver, etc   \n",
      "571041  Unknown  Unknown     Handgun - pistol, revolver, etc   \n",
      "571042     Male    Black            Firearm, type not stated   \n",
      "571043     Male    Black     Handgun - pistol, revolver, etc   \n",
      "571044     Male    Black            Firearm, type not stated   \n",
      "571045  Unknown  Unknown            Firearm, type not stated   \n",
      "571046  Unknown  Unknown                           Other gun   \n",
      "571047  Unknown  Unknown         Knife or cutting instrument   \n",
      "571048     Male    Black     Handgun - pistol, revolver, etc   \n",
      "571049     Male    Black     Handgun - pistol, revolver, etc   \n",
      "571050     Male    White         Knife or cutting instrument   \n",
      "571051     Male    White     Handgun - pistol, revolver, etc   \n",
      "571052     Male    Asian         Knife or cutting instrument   \n",
      "571053     Male    White     Handgun - pistol, revolver, etc   \n",
      "571054  Unknown  Unknown     Handgun - pistol, revolver, etc   \n",
      "571055     Male  Unknown     Handgun - pistol, revolver, etc   \n",
      "571056     Male  Unknown            Firearm, type not stated   \n",
      "571057     Male  Unknown            Firearm, type not stated   \n",
      "571058     Male    White               Other or type unknown   \n",
      "571059   Female    White               Other or type unknown   \n",
      "571060     Male    White               Other or type unknown   \n",
      "571061     Male    White                               Rifle   \n",
      "571062     Male    Black     Handgun - pistol, revolver, etc   \n",
      "571063     Male    Black         Knife or cutting instrument   \n",
      "571064  Unknown  Unknown                           Other gun   \n",
      "\n",
      "                       Relationship                       Circumstance  \\\n",
      "0       Relationship not determined         Circumstances undetermined   \n",
      "1                      Acquaintance  Brawl due to influence of alcohol   \n",
      "2                      Acquaintance                              Other   \n",
      "3                         Boyfriend                    Other arguments   \n",
      "4                            Friend  Brawl due to influence of alcohol   \n",
      "5                        Girlfriend                    Other arguments   \n",
      "6                            Friend                    Other arguments   \n",
      "7                          Stranger                Motor vehicle theft   \n",
      "8                              Wife                    Other arguments   \n",
      "9                         Boyfriend  Brawl due to influence of alcohol   \n",
      "10                          Husband    Argument over money or property   \n",
      "11                     Acquaintance                    Other arguments   \n",
      "12                     Acquaintance                    Other arguments   \n",
      "13                     Acquaintance                    Other arguments   \n",
      "14                         Stranger                           Gambling   \n",
      "15                             Wife                    Other arguments   \n",
      "16      Relationship not determined          All suspected felony type   \n",
      "17                          Ex-wife                    Other arguments   \n",
      "18                          Ex-wife                    Other arguments   \n",
      "19      Relationship not determined         Circumstances undetermined   \n",
      "20                     Acquaintance          All suspected felony type   \n",
      "21      Relationship not determined         Circumstances undetermined   \n",
      "22      Relationship not determined          All suspected felony type   \n",
      "23                          Husband                              Other   \n",
      "24      Relationship not determined          All suspected felony type   \n",
      "25                         Stranger             Felon killed by police   \n",
      "26                         Stranger         Circumstances undetermined   \n",
      "27      Relationship not determined         Circumstances undetermined   \n",
      "28                         Stranger                            Robbery   \n",
      "29                             Wife                              Other   \n",
      "...                             ...                                ...   \n",
      "571035  Relationship not determined         Circumstances undetermined   \n",
      "571036                 Other family                    Other arguments   \n",
      "571037                   Girlfriend                              Other   \n",
      "571038      Other - known to victim         Circumstances undetermined   \n",
      "571039  Relationship not determined         Circumstances undetermined   \n",
      "571040  Relationship not determined         Circumstances undetermined   \n",
      "571041  Relationship not determined         Circumstances undetermined   \n",
      "571042                 Acquaintance         Circumstances undetermined   \n",
      "571043                   Girlfriend                    Other arguments   \n",
      "571044  Relationship not determined         Circumstances undetermined   \n",
      "571045  Relationship not determined                    Other arguments   \n",
      "571046  Relationship not determined         Circumstances undetermined   \n",
      "571047  Relationship not determined         Circumstances undetermined   \n",
      "571048                 Acquaintance                 Narcotic drug laws   \n",
      "571049                 Acquaintance         Circumstances undetermined   \n",
      "571050                 Acquaintance                    Other arguments   \n",
      "571051                     Stranger             Felon killed by police   \n",
      "571052                   Girlfriend                    Other arguments   \n",
      "571053                 Acquaintance                    Other arguments   \n",
      "571054  Relationship not determined         Circumstances undetermined   \n",
      "571055                     Stranger                  Gangland killings   \n",
      "571056                     Stranger         Circumstances undetermined   \n",
      "571057                     Stranger         Circumstances undetermined   \n",
      "571058                     Stranger                              Other   \n",
      "571059                   Ex-husband         Circumstances undetermined   \n",
      "571060                     Stranger         Circumstances undetermined   \n",
      "571061                 Acquaintance    Felon killed by private citizen   \n",
      "571062                 Other family                    Other arguments   \n",
      "571063                   Girlfriend                              Other   \n",
      "571064  Relationship not determined         Circumstances undetermined   \n",
      "\n",
      "       VicCount OffCount  Solved  Source     ActionType  \n",
      "0             0        0      No     FBI  Normal update  \n",
      "1             0        0     Yes     FBI  Normal update  \n",
      "2             0        0     Yes     FBI  Normal update  \n",
      "3             0        0     Yes     FBI  Normal update  \n",
      "4             0        0     Yes     FBI  Normal update  \n",
      "5             0        0     Yes     FBI     Adjustment  \n",
      "6             0        0     Yes     FBI     Adjustment  \n",
      "7             0        0     Yes     FBI  Normal update  \n",
      "8             0        0     Yes     FBI  Normal update  \n",
      "9             0        0     Yes     FBI  Normal update  \n",
      "10            0        0     Yes     FBI  Normal update  \n",
      "11            0        0     Yes     FBI  Normal update  \n",
      "12            0        0     Yes     FBI  Normal update  \n",
      "13            0        0     Yes     FBI  Normal update  \n",
      "14            0        0     Yes     FBI  Normal update  \n",
      "15            0        0     Yes     FBI  Normal update  \n",
      "16            0        0      No     FBI     Adjustment  \n",
      "17            2        0     Yes     FBI  Normal update  \n",
      "18            2        0     Yes     FBI  Normal update  \n",
      "19            0        0      No     FBI     Adjustment  \n",
      "20            0        2     Yes     FBI  Normal update  \n",
      "21            0        0      No     FBI  Normal update  \n",
      "22            0        0      No     FBI  Normal update  \n",
      "23            0        0     Yes     FBI  Normal update  \n",
      "24            0        0     Yes     FBI     Adjustment  \n",
      "25            0        0     Yes     FBI  Normal update  \n",
      "26            0        2     Yes     FBI  Normal update  \n",
      "27            0        0      No     FBI  Normal update  \n",
      "28            2        1     Yes     FBI  Normal update  \n",
      "29            0        0     Yes     FBI  Normal update  \n",
      "...         ...      ...     ...     ...            ...  \n",
      "571035        0        0      No     FBI  Normal update  \n",
      "571036        0        0     Yes     FBI  Normal update  \n",
      "571037        0        0     Yes     FBI  Normal update  \n",
      "571038        0        1     Yes     FBI  Normal update  \n",
      "571039        0        0      No     FBI  Normal update  \n",
      "571040        1        1      No     FBI  Normal update  \n",
      "571041        0        0      No     FBI  Normal update  \n",
      "571042        0        1     Yes     FBI  Normal update  \n",
      "571043        0        0     Yes     FBI  Normal update  \n",
      "571044        0        1     Yes     FBI  Normal update  \n",
      "571045        0        1      No     FBI  Normal update  \n",
      "571046        0        1      No     FBI  Normal update  \n",
      "571047        0        0      No     FBI  Normal update  \n",
      "571048        0        1     Yes     FBI  Normal update  \n",
      "571049        0        2     Yes     FBI  Normal update  \n",
      "571050        0        0     Yes     FBI  Normal update  \n",
      "571051        0        0     Yes     FBI  Normal update  \n",
      "571052        0        0     Yes     FBI  Normal update  \n",
      "571053        0        0     Yes     FBI  Normal update  \n",
      "571054        0        0      No     FBI  Normal update  \n",
      "571055        0        0     Yes     FBI  Normal update  \n",
      "571056        1        0     Yes     FBI  Normal update  \n",
      "571057        1        0     Yes     FBI  Normal update  \n",
      "571058        1        0     Yes     FBI  Normal update  \n",
      "571059        0        0     Yes     FBI  Normal update  \n",
      "571060        0        0     Yes     FBI  Normal update  \n",
      "571061        0        0     Yes     FBI  Normal update  \n",
      "571062        0        0     Yes     FBI  Normal update  \n",
      "571063        0        0     Yes     FBI  Normal update  \n",
      "571064        0        0      No     FBI  Normal update  \n",
      "\n",
      "[571065 rows x 22 columns]\n"
     ]
    }
   ],
   "source": [
    "# review the data to see what's there\n",
    "\n",
    "murder = df\n",
    "print(murder)"
   ]
  },
  {
   "cell_type": "code",
   "execution_count": 27,
   "metadata": {},
   "outputs": [
    {
     "data": {
      "text/plain": [
       "Index(['ID', 'Year', 'Month', 'State', 'Agency', 'Agentype', 'Homicide',\n",
       "       'Situation', 'VicAge', 'VicSex', 'VicRace', 'OffAge', 'OffSex',\n",
       "       'OffRace', 'Weapon', 'Relationship', 'Circumstance', 'VicCount',\n",
       "       'OffCount', 'Solved', 'Source', 'ActionType'],\n",
       "      dtype='object')"
      ]
     },
     "execution_count": 27,
     "metadata": {},
     "output_type": "execute_result"
    }
   ],
   "source": [
    "# List of column names so I don't have to refer back to the file\n",
    "\n",
    "murder.columns"
   ]
  },
  {
   "cell_type": "code",
   "execution_count": 10,
   "metadata": {},
   "outputs": [
    {
     "name": "stdout",
     "output_type": "stream",
     "text": [
      "\n",
      "Year of Homicide:\n",
      " 1976    13772\n",
      "1977    14748\n",
      "1978    15305\n",
      "1979    17126\n",
      "1980    18261\n",
      "1981    16804\n",
      "1982    16355\n",
      "1983    15675\n",
      "1984    14400\n",
      "1985    14543\n",
      "1986    15770\n",
      "1987    14590\n",
      "1988    14436\n",
      "1989    15043\n",
      "1990    15982\n",
      "1991    16725\n",
      "1992    17591\n",
      "1993    17709\n",
      "1994    16680\n",
      "1995    15231\n",
      "1996    12971\n",
      "1997    12169\n",
      "1998    10958\n",
      "1999    10109\n",
      "2000    10530\n",
      "2001    11298\n",
      "2002    11649\n",
      "2003    11857\n",
      "2004    11671\n",
      "2005    12141\n",
      "2006    12110\n",
      "2007    12029\n",
      "2008    11012\n",
      "2009    11252\n",
      "2010    10873\n",
      "2011    10745\n",
      "2012    11118\n",
      "2013    10711\n",
      "2014    10539\n",
      "2015    11922\n",
      "2016    13232\n",
      "2017    13423\n",
      "Name: Year, dtype: int64\n",
      "\n",
      "Weapon Used:\n",
      " Asphyxiation - includes death by gas      2107\n",
      "Blunt object - hammer, club, etc         24616\n",
      "Drowning                                   472\n",
      "Explosives                                 434\n",
      "Fire                                      4016\n",
      "Firearm, type not stated                 43041\n",
      "Handgun - pistol, revolver, etc         298106\n",
      "Knife or cutting instrument              90353\n",
      "Narcotics or drugs, sleeping pills        1122\n",
      "Other gun                                 2282\n",
      "Other or type unknown                    22617\n",
      "Personal weapons, includes beating       23040\n",
      "Poison - does not include gas              261\n",
      "Pushed or thrown out window                156\n",
      "Rifle                                    21145\n",
      "Shotgun                                  30022\n",
      "Strangulation - hanging                   7275\n",
      "Name: Weapon, dtype: int64\n",
      "\n",
      "Race of Victims:\n",
      " American Indian or Alaskan Native        4339\n",
      "Asian                                    8106\n",
      "Black                                  275332\n",
      "Native Hawaiian or Pacific Islander        24\n",
      "Unknown                                  4637\n",
      "White                                  278627\n",
      "Name: VicRace, dtype: int64\n",
      "\n",
      "Race of Perpetrator:\n",
      " American Indian or Alaskan Native        3222\n",
      "Asian                                    4704\n",
      "Black                                  187758\n",
      "Native Hawaiian or Pacific Islander        10\n",
      "Unknown                                188756\n",
      "White                                  186615\n",
      "Name: OffRace, dtype: int64\n",
      "\n",
      "Age of victim:\n",
      " 19    21055\n",
      "20    23060\n",
      "21    23464\n",
      "22    24340\n",
      "23    23981\n",
      "24    23518\n",
      "25    24941\n",
      "26    22585\n",
      "27    21485\n",
      "28    20425\n",
      "29    19932\n",
      "30    20875\n",
      "31    17303\n",
      "32    17407\n",
      "33    15832\n",
      "34    15652\n",
      "35    15688\n",
      "36    13676\n",
      "37    12867\n",
      "38    12445\n",
      "39    11743\n",
      "40    12169\n",
      "41    10219\n",
      "42    10344\n",
      "43     9360\n",
      "44     8632\n",
      "45     9021\n",
      "46     8011\n",
      "47     7655\n",
      "48     6999\n",
      "49     6801\n",
      "50     7236\n",
      "51     5874\n",
      "52     5987\n",
      "53     5488\n",
      "54     5137\n",
      "55     4990\n",
      "56     4628\n",
      "57     4337\n",
      "58     3822\n",
      "59     3661\n",
      "60     3747\n",
      "61     3233\n",
      "62     3309\n",
      "63     2955\n",
      "64     2626\n",
      "65     2814\n",
      "66     2144\n",
      "67     2289\n",
      "68     2081\n",
      "69     1920\n",
      "70     1302\n",
      "Name: VicAge, dtype: int64\n",
      "\n",
      "Age of Perpetrator:\n",
      " 19      17111\n",
      "20      19083\n",
      "21      17183\n",
      "22      17228\n",
      "23      16636\n",
      "24      16014\n",
      "25      17266\n",
      "26      14666\n",
      "27      14148\n",
      "28      13543\n",
      "29      12785\n",
      "30      14005\n",
      "31      11112\n",
      "32      11126\n",
      "33      10020\n",
      "34       9568\n",
      "35       9944\n",
      "36       8459\n",
      "37       8101\n",
      "38       7618\n",
      "39       7088\n",
      "40       7209\n",
      "41       6245\n",
      "42       5969\n",
      "43       5589\n",
      "44       5211\n",
      "45       5239\n",
      "46       4295\n",
      "47       4266\n",
      "48       4055\n",
      "        ...  \n",
      "71        514\n",
      "72        475\n",
      "73        403\n",
      "74        303\n",
      "75        278\n",
      "76        244\n",
      "77        177\n",
      "78        165\n",
      "79        144\n",
      "80        108\n",
      "81        109\n",
      "82         92\n",
      "83         75\n",
      "84         59\n",
      "85         47\n",
      "86         37\n",
      "87         32\n",
      "88         25\n",
      "89         29\n",
      "90         18\n",
      "91          9\n",
      "92          9\n",
      "93          7\n",
      "94          8\n",
      "95          4\n",
      "96          5\n",
      "97          3\n",
      "98          4\n",
      "99         74\n",
      "999    206557\n",
      "Name: OffAge, Length: 82, dtype: int64\n",
      "\n",
      "Relationship of Victim to Perpetrator:\n",
      " Acquaintance                   118702\n",
      "Boyfriend                        8146\n",
      "Brother                          4814\n",
      "Common-law husband               2562\n",
      "Common-law wife                  3050\n",
      "Daughter                          812\n",
      "Employee                          369\n",
      "Employer                          452\n",
      "Ex-husband                        848\n",
      "Ex-wife                          2272\n",
      "Father                           3082\n",
      "Friend                          19622\n",
      "Girlfriend                      17160\n",
      "Homosexual relationship          1474\n",
      "Husband                         10943\n",
      "In-law                           4205\n",
      "Mother                           2831\n",
      "Neighbor                         5727\n",
      "Other - known to victim         22876\n",
      "Other family                     6171\n",
      "Relationship not determined    220015\n",
      "Sister                            797\n",
      "Son                              2213\n",
      "Stepdaughter                      225\n",
      "Stepfather                       1003\n",
      "Stepmother                        135\n",
      "Stepson                           616\n",
      "Stranger                        85705\n",
      "Wife                            24238\n",
      "Name: Relationship, dtype: int64\n",
      "\n",
      "Additional Victims by Offender:\n",
      " 0     528374\n",
      "1      32834\n",
      "2       6037\n",
      "3       1949\n",
      "4        669\n",
      "5        321\n",
      "6        212\n",
      "7        122\n",
      "8        132\n",
      "9        271\n",
      "10       144\n",
      "Name: VicCount, dtype: int64\n",
      "\n",
      "Additional Offenders:\n",
      " 0     509204\n",
      "1      43231\n",
      "2      12098\n",
      "3       4789\n",
      "4       1000\n",
      "5        421\n",
      "6        134\n",
      "7         84\n",
      "8         47\n",
      "9         34\n",
      "10        23\n",
      "Name: OffCount, dtype: int64\n"
     ]
    }
   ],
   "source": [
    "# Explore some general facts that I'm interested in and get the counts of the variables I want to see\n",
    "\n",
    "print('\\nYear of Homicide:\\n',murder.Year.value_counts().sort_index())\n",
    "print('\\nWeapon Used:\\n',murder.Weapon.value_counts().sort_index())\n",
    "print('\\nRace of Victims:\\n',murder.VicRace.value_counts().sort_index())\n",
    "print('\\nRace of Perpetrator:\\n',murder.OffRace.value_counts().sort_index())\n",
    "print('\\nAge of victim:\\n',murder.VicAge.value_counts().sort_index())\n",
    "print('\\nAge of Perpetrator:\\n',murder.OffAge.value_counts().sort_index())\n",
    "print('\\nRelationship of Victim to Perpetrator:\\n',murder.Relationship.value_counts().sort_index())\n",
    "print('\\nAdditional Victims by Offender:\\n',murder.VicCount.value_counts().sort_index())\n",
    "print('\\nAdditional Offenders:\\n',murder.OffCount.value_counts().sort_index())"
   ]
  },
  {
   "cell_type": "code",
   "execution_count": 43,
   "metadata": {},
   "outputs": [],
   "source": [
    "# More imports\n",
    "from __future__ import print_function, division\n",
    "import thinkstats2\n",
    "import thinkplot\n",
    "%matplotlib inline\n",
    "import numpy as np\n",
    "import first"
   ]
  },
  {
   "cell_type": "code",
   "execution_count": 17,
   "metadata": {},
   "outputs": [
    {
     "data": {
      "image/png": "[encoded data removed]",
      "text/plain": [
       "<Figure size 432x288 with 1 Axes>"
      ]
     },
     "metadata": {
      "needs_background": "light"
     },
     "output_type": "display_data"
    }
   ],
   "source": [
    "# Historam Victim Age\n",
    "\n",
    "hist = thinkstats2.Hist(murder.VicAge, \n",
    "                        label = 'Age of Victim')\n",
    "thinkplot.Hist(hist)\n",
    "thinkplot.Config(xlabel = 'Age', \n",
    "                 ylabel = 'Num. Victims')"
   ]
  },
  {
   "cell_type": "code",
   "execution_count": 20,
   "metadata": {},
   "outputs": [
    {
     "data": {
      "image/png": "[encoded data removed]",
      "text/plain": [
       "<Figure size 432x288 with 1 Axes>"
      ]
     },
     "metadata": {
      "needs_background": "light"
     },
     "output_type": "display_data"
    }
   ],
   "source": [
    "# Historam Offender Age\n",
    "\n",
    "hist = thinkstats2.Hist(murder.OffAge, \n",
    "                        label = 'Age of Offenders')\n",
    "thinkplot.Hist(hist)\n",
    "thinkplot.Config(xlabel = 'Age', \n",
    "                 ylabel = 'Num. Offenders',)\n",
    "\n",
    "# the number of unknowns, represented by 999, has distorted the histogram"
   ]
  },
  {
   "cell_type": "code",
   "execution_count": 22,
   "metadata": {},
   "outputs": [
    {
     "data": {
      "image/png": "[encoded data removed]",
      "text/plain": [
       "<Figure size 432x288 with 1 Axes>"
      ]
     },
     "metadata": {
      "needs_background": "light"
     },
     "output_type": "display_data"
    }
   ],
   "source": [
    "# Historam Victim Count\n",
    "\n",
    "hist = thinkstats2.Hist(murder.VicCount, \n",
    "                        label = 'Additional Victims')\n",
    "thinkplot.Hist(hist)\n",
    "thinkplot.Config(xlabel = 'Age', \n",
    "                 ylabel = 'Num. Victims',)"
   ]
  },
  {
   "cell_type": "code",
   "execution_count": 23,
   "metadata": {},
   "outputs": [
    {
     "data": {
      "image/png": "[encoded data removed]",
      "text/plain": [
       "<Figure size 432x288 with 1 Axes>"
      ]
     },
     "metadata": {
      "needs_background": "light"
     },
     "output_type": "display_data"
    }
   ],
   "source": [
    "# Historam Offender Count\n",
    "\n",
    "hist = thinkstats2.Hist(murder.OffCount, \n",
    "                        label = 'Additional Offenders')\n",
    "thinkplot.Hist(hist)\n",
    "thinkplot.Config(xlabel = 'Age', \n",
    "                 ylabel = 'Num. Offenders',)"
   ]
  },
  {
   "cell_type": "code",
   "execution_count": 24,
   "metadata": {},
   "outputs": [
    {
     "data": {
      "image/png": "[encoded data removed]",
      "text/plain": [
       "<Figure size 432x288 with 1 Axes>"
      ]
     },
     "metadata": {
      "needs_background": "light"
     },
     "output_type": "display_data"
    }
   ],
   "source": [
    "# Historam for year\n",
    "\n",
    "hist = thinkstats2.Hist(murder.Year, \n",
    "                        label = 'Year of Homicide')\n",
    "thinkplot.Hist(hist)\n",
    "thinkplot.Config(xlabel = 'Year', \n",
    "                 ylabel = 'Num. Homicides')"
   ]
  },
  {
   "cell_type": "code",
   "execution_count": 25,
   "metadata": {},
   "outputs": [
    {
     "name": "stdout",
     "output_type": "stream",
     "text": [
      "Statistics for Victim Age:\n",
      "Mean: 34.45946433418263 \n",
      "Mode: 0    25\n",
      "dtype: int64 \n",
      "Spread: 149.63273452732525 \n",
      "Standard Deviation: 12.23244597483779\n",
      "\n",
      "Statistics for Offender Age:\n",
      "Mean: 382.48620384719777 \n",
      "Mode: 0    999\n",
      "dtype: int64 \n",
      "Spread: 215479.96701920897 \n",
      "Standard Deviation: 464.1981979922035\n",
      "\n",
      "Additional Victims of the Same Offender:\n",
      "Mean: 0.10873893514748759 \n",
      "Mode: 0    0\n",
      "dtype: int64 \n",
      "Spread: 0.25375201088369725 \n",
      "Standard Deviation: 0.5037380379559372\n",
      "\n",
      "Additional Offenders Beyond the Original:\n",
      "Mean: 0.1579557493455211 \n",
      "Mode: 0    0\n",
      "dtype: int64 \n",
      "Spread: 0.28718833185422343 \n",
      "Standard Deviation: 0.5358995538850759\n",
      "\n",
      "Year the Homicide Occured:\n",
      "Mean: 1994.9371962911403 \n",
      "Mode: 0    1980\n",
      "dtype: int64 \n",
      "Spread: 145.48186288209948 \n",
      "Standard Deviation: 12.061586250659548\n"
     ]
    }
   ],
   "source": [
    "# Variable Characteristics: \n",
    "\n",
    "# Victim's Age\n",
    "print('Statistics for Victim Age:\\n'\n",
    "      'Mean:',murder.VicAge.mean(),\n",
    "     '\\nMode:', murder.VicAge.mode(),\n",
    "     '\\nSpread:', murder.VicAge.var(),\n",
    "     '\\nStandard Deviation:', murder.VicAge.std(),)\n",
    "\n",
    "# Offender's Age\n",
    "print('\\nStatistics for Offender Age:\\n'\n",
    "      'Mean:',murder.OffAge.mean(),\n",
    "     '\\nMode:', murder.OffAge.mode(),\n",
    "     '\\nSpread:', murder.OffAge.var(),\n",
    "     '\\nStandard Deviation:', murder.OffAge.std(),)\n",
    "\n",
    "# Additional Victims \n",
    "print('\\nAdditional Victims of the Same Offender:\\n'\n",
    "      'Mean:',murder.VicCount.mean(),\n",
    "     '\\nMode:', murder.VicCount.mode(),\n",
    "     '\\nSpread:', murder.VicCount.var(),\n",
    "     '\\nStandard Deviation:', murder.VicCount.std(),)\n",
    "\n",
    "# Additional Offenders\n",
    "print('\\nAdditional Offenders Beyond the Original:\\n'\n",
    "      'Mean:',murder.OffCount.mean(),\n",
    "     '\\nMode:', murder.OffCount.mode(),\n",
    "     '\\nSpread:', murder.OffCount.var(),\n",
    "     '\\nStandard Deviation:', murder.OffCount.std(),)\n",
    "\n",
    "# Year\n",
    "print('\\nYear the Homicide Occured:\\n'\n",
    "      'Mean:',murder.Year.mean(),\n",
    "     '\\nMode:', murder.Year.mode(),\n",
    "     '\\nSpread:', murder.Year.var(),\n",
    "     '\\nStandard Deviation:', murder.Year.std(),)\n"
   ]
  },
  {
   "cell_type": "code",
   "execution_count": 118,
   "metadata": {},
   "outputs": [
    {
     "data": {
      "image/png": "[encoded data removed]",
      "text/plain": [
       "<Figure size 864x432 with 1 Axes>"
      ]
     },
     "metadata": {
      "needs_background": "light"
     },
     "output_type": "display_data"
    }
   ],
   "source": [
    "# PMF for murder year mode compared to years represented by the standard deviation\n",
    "# plus three years on each side\n",
    "\n",
    "mode_year = murder[murder.Year == 1980]\n",
    "other_year = murder[murder.Year == murder.Year]\n",
    "\n",
    "mode_pmf = thinkstats2.Pmf(mode_year.Year, label='Mode Year')\n",
    "years_pmf = thinkstats2.Pmf(other_year.Year, label='Other years')\n",
    "\n",
    "width = 0.7\n",
    "thinkplot.PrePlot(2, cols=2)\n",
    "thinkplot.Hist(mode_pmf, align = 'right', width=width)\n",
    "thinkplot.Hist(years_pmf, align = 'left', width=width)\n",
    "thinkplot.Config(xlabel = 'Homicide Year',\n",
    "                     ylabel = 'Probability',\n",
    "                axis = [1979, 2009, 0, 0.6])"
   ]
  },
  {
   "cell_type": "code",
   "execution_count": 136,
   "metadata": {},
   "outputs": [
    {
     "data": {
      "image/png": "[encoded data removed]",
      "text/plain": [
       "<Figure size 432x288 with 1 Axes>"
      ]
     },
     "metadata": {
      "needs_background": "light"
     },
     "output_type": "display_data"
    },
    {
     "name": "stdout",
     "output_type": "stream",
     "text": [
      "Percentage of victims under age 34 (mean): 59%\n",
      "Percentage of victims under age 25 (mode): 29%\n"
     ]
    },
    {
     "data": {
      "text/plain": [
       "<Figure size 576x432 with 0 Axes>"
      ]
     },
     "metadata": {},
     "output_type": "display_data"
    }
   ],
   "source": [
    "# CDF of victim age\n",
    "\n",
    "cdf = thinkstats2.Cdf(murder.VicAge, label = 'Victim Age')\n",
    "thinkplot.Cdf(cdf)\n",
    "thinkplot.Show(xlabel = 'Victim Age', ylabel = 'CDF')\n",
    "\n",
    "# Examine mean and mode\n",
    "print('Percentage of victims under age 34 (mean):', \"{:.0%}\".format(cdf.Prob(34)))\n",
    "print('Percentage of victims under age 25 (mode):', \"{:.0%}\".format(cdf.Prob(25)))"
   ]
  },
  {
   "cell_type": "code",
   "execution_count": 146,
   "metadata": {},
   "outputs": [
    {
     "data": {
      "image/png": "[encoded data removed]",
      "text/plain": [
       "<Figure size 432x288 with 1 Axes>"
      ]
     },
     "metadata": {
      "needs_background": "light"
     },
     "output_type": "display_data"
    },
    {
     "name": "stdout",
     "output_type": "stream",
     "text": [
      "Percentage of offenders under age 34 (victim mean): 64%\n",
      "Percentage of offenders under age 25 (victim mode): 33%\n"
     ]
    },
    {
     "data": {
      "text/plain": [
       "<Figure size 576x432 with 0 Axes>"
      ]
     },
     "metadata": {},
     "output_type": "display_data"
    }
   ],
   "source": [
    "# Compare CDFs for ages of the victims nd offenders\n",
    "\n",
    "off_age = murder[murder.OffAge <= 99]  # remove the unknown ages of 999\n",
    "vic_age = murder[murder.VicAge == murder.VicAge]\n",
    "\n",
    "off_cdf = thinkstats2.Cdf(mean_age.OffAge, label =' Offender Age')\n",
    "vic_cdf = thinkstats2.Cdf(other_age.VicAge, label='Victim Age')\n",
    "\n",
    "thinkplot.PrePlot(2)\n",
    "thinkplot.Cdfs([off_cdf, vic_cdf])\n",
    "thinkplot.Show(xlabel = 'Victim and Offender Ages', ylabel = 'CDF')\n",
    "\n",
    "# compare the percentages of the offender to the same ages as the victim mean and mode ages\n",
    "print('Percentage of offenders under age 34 (victim mean):', \"{:.0%}\".format(off_cdf.Prob(34)))\n",
    "print('Percentage of offenders under age 25 (victim mode):', \"{:.0%}\".format(off_cdf.Prob(25)))"
   ]
  },
  {
   "cell_type": "code",
   "execution_count": 177,
   "metadata": {},
   "outputs": [],
   "source": [
    "# More imports\n",
    "from __future__ import print_function, division\n",
    "\n",
    "%matplotlib inline   \n",
    "import numpy as np\n",
    "import first\n",
    "import analytic\n",
    "import thinkstats2\n",
    "import thinkplot"
   ]
  },
  {
   "cell_type": "code",
   "execution_count": 178,
   "metadata": {},
   "outputs": [
    {
     "data": {
      "image/png": "[encoded data removed]",
      "text/plain": [
       "<Figure size 432x288 with 1 Axes>"
      ]
     },
     "metadata": {
      "needs_background": "light"
     },
     "output_type": "display_data"
    }
   ],
   "source": [
    "# Create normal distributions for reference\n",
    "\n",
    "thinkplot.PrePlot(3)\n",
    "\n",
    "mus = [1, 2, 3]\n",
    "sigmas = [0.5, 0.4, 0.3]\n",
    "for mu, sigma in zip(mus, sigmas):\n",
    "    xs, ps = thinkstats2.RenderNormalCdf(mu=mu, sigma = sigma, \n",
    "                                               low = -1, high = 4)\n",
    "    label = r'$\\mu=%g$, $\\sigma=%g$' % (mu, sigma)\n",
    "    thinkplot.Plot(xs, ps, label=label)\n",
    "\n",
    "thinkplot.Config(title = 'Normal CDF Distribution', xlabel = 'x', \n",
    "                 ylabel = 'CDF',\n",
    "                 loc='upper left')\n",
    "\n"
   ]
  },
  {
   "cell_type": "code",
   "execution_count": 179,
   "metadata": {},
   "outputs": [
    {
     "name": "stdout",
     "output_type": "stream",
     "text": [
      "Victim age mean =  34.26762858597861\n",
      "Victim age standard deviation =  11.75694388491157\n"
     ]
    },
    {
     "data": {
      "image/png": "[encoded data removed]",
      "text/plain": [
       "<Figure size 432x288 with 1 Axes>"
      ]
     },
     "metadata": {
      "needs_background": "light"
     },
     "output_type": "display_data"
    }
   ],
   "source": [
    "# Distribution comparison between a normal model and victim ages\n",
    "\n",
    "ages = murder.VicAge.dropna()\n",
    "mu, var = thinkstats2.TrimmedMeanVar(ages, p = 0.01)\n",
    "sigma = np.sqrt(var)\n",
    "\n",
    "print('Victim age mean = ', mu)\n",
    "print('Victim age standard deviation = ', sigma)\n",
    "\n",
    "# high and low parameters that match the victim age range\n",
    "xs, ps = thinkstats2.RenderNormalCdf(mu, sigma, low = 18, high = 70)\n",
    "\n",
    "thinkplot.Plot(xs, ps, label = 'Model', color = '0.6')\n",
    "\n",
    "# plot the data\n",
    "cdf = thinkstats2.Cdf(ages, label = 'Data')\n",
    "\n",
    "thinkplot.PrePlot(1)\n",
    "thinkplot.Cdf(cdf) \n",
    "thinkplot.Config(title = 'Victim Ages',\n",
    "                 xlabel = 'Age of Victims',\n",
    "                 ylabel = 'CDF')\n",
    "\n"
   ]
  },
  {
   "cell_type": "code",
   "execution_count": 195,
   "metadata": {},
   "outputs": [
    {
     "data": {
      "image/png": "[encoded data removed]",
      "text/plain": [
       "<Figure size 432x288 with 1 Axes>"
      ]
     },
     "metadata": {
      "needs_background": "light"
     },
     "output_type": "display_data"
    }
   ],
   "source": [
    "# Create scatter plot of vctim ages and year of death\n",
    "\n",
    "def SampleRows(murder, nrows, replace = False):\n",
    "    indices = np.random.choice(murder.index, nrows, replace = replace)\n",
    "    sample = murder.loc[indices]\n",
    "    return sample\n",
    "\n",
    "sample = SampleRows(murder, 5000)\n",
    "s_age, s_year = sample.VicAge, sample.Year\n",
    "\n",
    "thinkplot.Scatter(s_age, s_year, alpha = 1)\n",
    "thinkplot.Config(xlabel = ' Victim Age',\n",
    "                 ylabel = 'Year of Death',\n",
    "                 axis = [19, 70, 1979, 2009],\n",
    "                 legend = False,\n",
    "                title = 'Victim Age & Year of Death')"
   ]
  },
  {
   "cell_type": "code",
   "execution_count": 197,
   "metadata": {},
   "outputs": [
    {
     "data": {
      "image/png": "[encoded data removed]",
      "text/plain": [
       "<Figure size 432x288 with 1 Axes>"
      ]
     },
     "metadata": {
      "needs_background": "light"
     },
     "output_type": "display_data"
    }
   ],
   "source": [
    "# Create scatter plot of vctim ages and additional victims by the same offender\n",
    "\n",
    "sample = SampleRows(murder, 5000)\n",
    "s_age, s_count = sample.VicAge, sample.VicCount\n",
    "\n",
    "thinkplot.Scatter(s_age, s_count, alpha = 1)\n",
    "thinkplot.Config(xlabel = 'Victim Age',\n",
    "                 ylabel = 'Add. Victims',\n",
    "                 axis = [19, 70, -1, 11],  # used -1 so it's not all clustered on the botttom\n",
    "                 legend = False,\n",
    "                title = 'Victim Age & Additional Victims')\n"
   ]
  },
  {
   "cell_type": "code",
   "execution_count": 208,
   "metadata": {},
   "outputs": [],
   "source": [
    "# Imports\n",
    "\n",
    "from __future__ import print_function, division\n",
    "\n",
    "%matplotlib inline\n",
    "import numpy as np\n",
    "import random\n",
    "import thinkstats2\n",
    "import thinkplot"
   ]
  },
  {
   "cell_type": "code",
   "execution_count": 228,
   "metadata": {},
   "outputs": [],
   "source": [
    "# Class for some testing\n",
    "\n",
    "class DiffMeansPermute(thinkstats2.HypothesisTest):\n",
    "    \n",
    "    def TestStatistic(self, data):\n",
    "        group1, group2 = data\n",
    "        test_stat = abs(group1.mean() - group2.mean())\n",
    "        return test_stat\n",
    "    \n",
    "    def MakeModel(self):\n",
    "        group1, group2 = self.data\n",
    "        self.n, self.m = len(group1), len(group2)\n",
    "        self.pool = np.hstack((group1, group2))\n",
    "\n",
    "    def RunModel(self):\n",
    "        np.random.shuffle(self.pool)\n",
    "        data = self.pool[:self.n], self.pool[self.n:]\n",
    "        return data\n",
    "    "
   ]
  },
  {
   "cell_type": "code",
   "execution_count": 230,
   "metadata": {},
   "outputs": [
    {
     "name": "stdout",
     "output_type": "stream",
     "text": [
      "the p-value is:  0.076\n",
      "The percentage chance that the year of death and the victim age are correlated is: 8%\n"
     ]
    }
   ],
   "source": [
    "class CorrelationPermute(thinkstats2.HypothesisTest):\n",
    "\n",
    "    def TestStatistic(self, data):\n",
    "        xs, ys = data\n",
    "        test_stat = abs(thinkstats2.Corr(xs, ys))\n",
    "        return test_stat\n",
    "\n",
    "    def RunModel(self):\n",
    "        xs, ys = self.data\n",
    "        xs = np.random.permutation(xs)\n",
    "        return xs, ys\n",
    "    \n",
    "\n",
    "cleaned = murder.dropna(subset = ['Year', 'VicAge'])\n",
    "data = cleaned.Year.values, cleaned.VicAge.values\n",
    "ht = CorrelationPermute(data)\n",
    "pvalue = ht.PValue()\n",
    "\n",
    "print('the p-value is: ',pvalue)\n",
    "print('The percentage chance that the year of death and the victim age are correlated is:', \"{:.0%}\".format(pvalue))  \n"
   ]
  },
  {
   "cell_type": "code",
   "execution_count": null,
   "metadata": {},
   "outputs": [],
   "source": [
    "\n",
    "\n"
   ]
  },
  {
   "cell_type": "code",
   "execution_count": null,
   "metadata": {},
   "outputs": [],
   "source": [
    "\n",
    "\n"
   ]
  },
  {
   "cell_type": "code",
   "execution_count": null,
   "metadata": {},
   "outputs": [],
   "source": [
    "\n",
    "\n"
   ]
  },
  {
   "cell_type": "code",
   "execution_count": 237,
   "metadata": {},
   "outputs": [
    {
     "data": {
      "text/html": [
       "<table class=\"simpletable\">\n",
       "<caption>OLS Regression Results</caption>\n",
       "<tr>\n",
       "  <th>Dep. Variable:</th>         <td>VicAge</td>      <th>  R-squared:         </th>  <td>   0.000</td>  \n",
       "</tr>\n",
       "<tr>\n",
       "  <th>Model:</th>                   <td>OLS</td>       <th>  Adj. R-squared:    </th>  <td>   0.000</td>  \n",
       "</tr>\n",
       "<tr>\n",
       "  <th>Method:</th>             <td>Least Squares</td>  <th>  F-statistic:       </th>  <td>   3.014</td>  \n",
       "</tr>\n",
       "<tr>\n",
       "  <th>Date:</th>             <td>Fri, 20 Nov 2020</td> <th>  Prob (F-statistic):</th>   <td>0.0826</td>   \n",
       "</tr>\n",
       "<tr>\n",
       "  <th>Time:</th>                 <td>15:45:08</td>     <th>  Log-Likelihood:    </th> <td>-2.2403e+06</td>\n",
       "</tr>\n",
       "<tr>\n",
       "  <th>No. Observations:</th>      <td>571065</td>      <th>  AIC:               </th>  <td>4.481e+06</td> \n",
       "</tr>\n",
       "<tr>\n",
       "  <th>Df Residuals:</th>          <td>571063</td>      <th>  BIC:               </th>  <td>4.481e+06</td> \n",
       "</tr>\n",
       "<tr>\n",
       "  <th>Df Model:</th>              <td>     1</td>      <th>                     </th>      <td> </td>     \n",
       "</tr>\n",
       "<tr>\n",
       "  <th>Covariance Type:</th>      <td>nonrobust</td>    <th>                     </th>      <td> </td>     \n",
       "</tr>\n",
       "</table>\n",
       "<table class=\"simpletable\">\n",
       "<tr>\n",
       "      <td></td>         <th>coef</th>     <th>std err</th>      <th>t</th>      <th>P>|t|</th>  <th>[0.025</th>    <th>0.975]</th>  \n",
       "</tr>\n",
       "<tr>\n",
       "  <th>Intercept</th> <td>   39.1071</td> <td>    2.677</td> <td>   14.607</td> <td> 0.000</td> <td>   33.860</td> <td>   44.355</td>\n",
       "</tr>\n",
       "<tr>\n",
       "  <th>Year</th>      <td>   -0.0023</td> <td>    0.001</td> <td>   -1.736</td> <td> 0.083</td> <td>   -0.005</td> <td>    0.000</td>\n",
       "</tr>\n",
       "</table>\n",
       "<table class=\"simpletable\">\n",
       "<tr>\n",
       "  <th>Omnibus:</th>       <td>54055.152</td> <th>  Durbin-Watson:     </th> <td>   0.726</td> \n",
       "</tr>\n",
       "<tr>\n",
       "  <th>Prob(Omnibus):</th>  <td> 0.000</td>   <th>  Jarque-Bera (JB):  </th> <td>71228.365</td>\n",
       "</tr>\n",
       "<tr>\n",
       "  <th>Skew:</th>           <td> 0.865</td>   <th>  Prob(JB):          </th> <td>    0.00</td> \n",
       "</tr>\n",
       "<tr>\n",
       "  <th>Kurtosis:</th>       <td> 2.960</td>   <th>  Cond. No.          </th> <td>3.30e+05</td> \n",
       "</tr>\n",
       "</table><br/><br/>Warnings:<br/>[1] Standard Errors assume that the covariance matrix of the errors is correctly specified.<br/>[2] The condition number is large, 3.3e+05. This might indicate that there are<br/>strong multicollinearity or other numerical problems."
      ],
      "text/plain": [
       "<class 'statsmodels.iolib.summary.Summary'>\n",
       "\"\"\"\n",
       "                            OLS Regression Results                            \n",
       "==============================================================================\n",
       "Dep. Variable:                 VicAge   R-squared:                       0.000\n",
       "Model:                            OLS   Adj. R-squared:                  0.000\n",
       "Method:                 Least Squares   F-statistic:                     3.014\n",
       "Date:                Fri, 20 Nov 2020   Prob (F-statistic):             0.0826\n",
       "Time:                        15:45:08   Log-Likelihood:            -2.2403e+06\n",
       "No. Observations:              571065   AIC:                         4.481e+06\n",
       "Df Residuals:                  571063   BIC:                         4.481e+06\n",
       "Df Model:                           1                                         \n",
       "Covariance Type:            nonrobust                                         \n",
       "==============================================================================\n",
       "                 coef    std err          t      P>|t|      [0.025      0.975]\n",
       "------------------------------------------------------------------------------\n",
       "Intercept     39.1071      2.677     14.607      0.000      33.860      44.355\n",
       "Year          -0.0023      0.001     -1.736      0.083      -0.005       0.000\n",
       "==============================================================================\n",
       "Omnibus:                    54055.152   Durbin-Watson:                   0.726\n",
       "Prob(Omnibus):                  0.000   Jarque-Bera (JB):            71228.365\n",
       "Skew:                           0.865   Prob(JB):                         0.00\n",
       "Kurtosis:                       2.960   Cond. No.                     3.30e+05\n",
       "==============================================================================\n",
       "\n",
       "Warnings:\n",
       "[1] Standard Errors assume that the covariance matrix of the errors is correctly specified.\n",
       "[2] The condition number is large, 3.3e+05. This might indicate that there are\n",
       "strong multicollinearity or other numerical problems.\n",
       "\"\"\""
      ]
     },
     "execution_count": 237,
     "metadata": {},
     "output_type": "execute_result"
    }
   ],
   "source": [
    "# Regression testing for victim ages and years of death\n",
    "\n",
    "# imports\n",
    "%matplotlib inline\n",
    "import numpy as np\n",
    "import pandas as pd\n",
    "import statsmodels.formula.api as smf\n",
    "\n",
    "\n",
    "formula = 'VicAge ~ Year'\n",
    "model = smf.ols(formula, data = murder)\n",
    "results = model.fit()\n",
    "results.summary()"
   ]
  },
  {
   "cell_type": "code",
   "execution_count": 245,
   "metadata": {},
   "outputs": [
    {
     "name": "stdout",
     "output_type": "stream",
     "text": [
      "Intercept -  39.10709608756224\n",
      "Slope -  -0.0023297133173232343\n",
      "Slope p-value -  0.08257353492642622\n",
      "Coefficient of Determinism -  5.277001351555732e-06\n"
     ]
    }
   ],
   "source": [
    "inter = results.params['Intercept']\n",
    "slope = results.params['Year']\n",
    "slope_pvalue = results.pvalues['Year']\n",
    "\n",
    "print('Intercept - ',inter)\n",
    "print('Slope - ',slope)\n",
    "print('Slope p-value - ',slope_pvalue)\n",
    "print('Coefficient of Determinism - ',results.rsquared)"
   ]
  },
  {
   "cell_type": "code",
   "execution_count": null,
   "metadata": {},
   "outputs": [],
   "source": []
  }
 ],
 "metadata": {
  "kernelspec": {
   "display_name": "Python 3",
   "language": "python",
   "name": "python3"
  },
  "language_info": {
   "codemirror_mode": {
    "name": "ipython",
    "version": 3
   },
   "file_extension": ".py",
   "mimetype": "text/x-python",
   "name": "python",
   "nbconvert_exporter": "python",
   "pygments_lexer": "ipython3",
   "version": "3.7.1"
  }
 },
 "nbformat": 4,
 "nbformat_minor": 2
}
